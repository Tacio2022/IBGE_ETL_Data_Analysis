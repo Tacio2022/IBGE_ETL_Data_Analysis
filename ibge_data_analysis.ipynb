{
 "cells": [
  {
   "cell_type": "markdown",
   "id": "d07c1481",
   "metadata": {},
   "source": [
    "# IBGE Data Analysis - ETL Project"
   ]
  },
  {
   "cell_type": "code",
   "execution_count": 58,
   "id": "11af052d",
   "metadata": {},
   "outputs": [],
   "source": [
    "import pandas as pd\n",
    "import numpy as np\n",
    "import matplotlib.pyplot as plt\n",
    "import seaborn as sns"
   ]
  },
  {
   "cell_type": "code",
   "execution_count": 59,
   "id": "fea0e8fc",
   "metadata": {},
   "outputs": [],
   "source": [
    "df = pd.read_csv('dados_ibge_mg.csv',skiprows=[0,856,857])"
   ]
  },
  {
   "cell_type": "code",
   "execution_count": 60,
   "id": "e58b030f",
   "metadata": {},
   "outputs": [
    {
     "name": "stdout",
     "output_type": "stream",
     "text": [
      "<class 'pandas.core.frame.DataFrame'>\n",
      "RangeIndex: 853 entries, 0 to 852\n",
      "Data columns (total 14 columns):\n",
      " #   Column                                                                                  Non-Null Count  Dtype  \n",
      "---  ------                                                                                  --------------  -----  \n",
      " 0   Munic&iacute;pio [-]                                                                    853 non-null    object \n",
      " 1   C&oacute;digo [-]                                                                       853 non-null    int64  \n",
      " 2   Gent&iacute;lico [-]                                                                    853 non-null    object \n",
      " 3   Prefeito [2021]                                                                         853 non-null    object \n",
      " 4   &Aacute;rea Territorial - km&sup2; [2021]                                               853 non-null    float64\n",
      " 5   Popula&ccedil;&atilde;o estimada - pessoas [2021]                                       853 non-null    int64  \n",
      " 6   Densidade demogr&aacute;fica - hab/km&sup2; [2010]                                      853 non-null    float64\n",
      " 7   Escolariza&ccedil;&atilde;o &lt;span&gt;6 a 14 anos&lt;/span&gt; - % [2010]             853 non-null    float64\n",
      " 8   IDHM &lt;span&gt;&Iacute;ndice de desenvolvimento humano municipal&lt;/span&gt; [2010]  853 non-null    float64\n",
      " 9   Mortalidade infantil - &oacute;bitos por mil nascidos vivos [2020]                      853 non-null    object \n",
      " 10  Receitas realizadas - R$ (&times;1000) [2017]                                           853 non-null    float64\n",
      " 11  Despesas empenhadas - R$ (&times;1000) [2017]                                           853 non-null    float64\n",
      " 12  PIB per capita - R$ [2019]                                                              853 non-null    float64\n",
      " 13  Unnamed: 13                                                                             0 non-null      float64\n",
      "dtypes: float64(8), int64(2), object(4)\n",
      "memory usage: 93.4+ KB\n"
     ]
    }
   ],
   "source": [
    "df.info()"
   ]
  },
  {
   "cell_type": "code",
   "execution_count": 61,
   "id": "c66b1140",
   "metadata": {},
   "outputs": [
    {
     "data": {
      "text/html": [
       "<div>\n",
       "<style scoped>\n",
       "    .dataframe tbody tr th:only-of-type {\n",
       "        vertical-align: middle;\n",
       "    }\n",
       "\n",
       "    .dataframe tbody tr th {\n",
       "        vertical-align: top;\n",
       "    }\n",
       "\n",
       "    .dataframe thead th {\n",
       "        text-align: right;\n",
       "    }\n",
       "</style>\n",
       "<table border=\"1\" class=\"dataframe\">\n",
       "  <thead>\n",
       "    <tr style=\"text-align: right;\">\n",
       "      <th></th>\n",
       "      <th>C&amp;oacute;digo [-]</th>\n",
       "      <th>&amp;Aacute;rea Territorial - km&amp;sup2; [2021]</th>\n",
       "      <th>Popula&amp;ccedil;&amp;atilde;o estimada - pessoas [2021]</th>\n",
       "      <th>Densidade demogr&amp;aacute;fica - hab/km&amp;sup2; [2010]</th>\n",
       "      <th>Escolariza&amp;ccedil;&amp;atilde;o &amp;lt;span&amp;gt;6 a 14 anos&amp;lt;/span&amp;gt; - % [2010]</th>\n",
       "      <th>IDHM &amp;lt;span&amp;gt;&amp;Iacute;ndice de desenvolvimento humano municipal&amp;lt;/span&amp;gt; [2010]</th>\n",
       "      <th>Receitas realizadas - R$ (&amp;times;1000) [2017]</th>\n",
       "      <th>Despesas empenhadas - R$ (&amp;times;1000) [2017]</th>\n",
       "      <th>PIB per capita - R$ [2019]</th>\n",
       "      <th>Unnamed: 13</th>\n",
       "    </tr>\n",
       "  </thead>\n",
       "  <tbody>\n",
       "    <tr>\n",
       "      <th>count</th>\n",
       "      <td>8.530000e+02</td>\n",
       "      <td>853.000000</td>\n",
       "      <td>8.530000e+02</td>\n",
       "      <td>853.000000</td>\n",
       "      <td>853.000000</td>\n",
       "      <td>853.000000</td>\n",
       "      <td>8.530000e+02</td>\n",
       "      <td>8.530000e+02</td>\n",
       "      <td>853.000000</td>\n",
       "      <td>0.0</td>\n",
       "    </tr>\n",
       "    <tr>\n",
       "      <th>mean</th>\n",
       "      <td>3.136982e+06</td>\n",
       "      <td>687.589675</td>\n",
       "      <td>2.510190e+04</td>\n",
       "      <td>65.277984</td>\n",
       "      <td>97.443494</td>\n",
       "      <td>0.667878</td>\n",
       "      <td>7.185850e+04</td>\n",
       "      <td>6.499545e+04</td>\n",
       "      <td>21386.137444</td>\n",
       "      <td>NaN</td>\n",
       "    </tr>\n",
       "    <tr>\n",
       "      <th>std</th>\n",
       "      <td>2.072104e+04</td>\n",
       "      <td>965.848805</td>\n",
       "      <td>1.017052e+05</td>\n",
       "      <td>310.186259</td>\n",
       "      <td>1.688276</td>\n",
       "      <td>0.049637</td>\n",
       "      <td>3.776376e+05</td>\n",
       "      <td>3.688016e+05</td>\n",
       "      <td>24512.451613</td>\n",
       "      <td>NaN</td>\n",
       "    </tr>\n",
       "    <tr>\n",
       "      <th>min</th>\n",
       "      <td>3.100104e+06</td>\n",
       "      <td>3.565000</td>\n",
       "      <td>7.710000e+02</td>\n",
       "      <td>1.360000</td>\n",
       "      <td>83.900000</td>\n",
       "      <td>0.529000</td>\n",
       "      <td>9.919854e+03</td>\n",
       "      <td>7.466144e+02</td>\n",
       "      <td>5984.220000</td>\n",
       "      <td>NaN</td>\n",
       "    </tr>\n",
       "    <tr>\n",
       "      <th>25%</th>\n",
       "      <td>3.119500e+06</td>\n",
       "      <td>196.735000</td>\n",
       "      <td>4.843000e+03</td>\n",
       "      <td>12.560000</td>\n",
       "      <td>96.700000</td>\n",
       "      <td>0.633000</td>\n",
       "      <td>1.647631e+04</td>\n",
       "      <td>1.440029e+04</td>\n",
       "      <td>11082.490000</td>\n",
       "      <td>NaN</td>\n",
       "    </tr>\n",
       "    <tr>\n",
       "      <th>50%</th>\n",
       "      <td>3.137304e+06</td>\n",
       "      <td>363.828000</td>\n",
       "      <td>8.288000e+03</td>\n",
       "      <td>22.520000</td>\n",
       "      <td>97.700000</td>\n",
       "      <td>0.670000</td>\n",
       "      <td>2.199549e+04</td>\n",
       "      <td>1.993433e+04</td>\n",
       "      <td>15060.990000</td>\n",
       "      <td>NaN</td>\n",
       "    </tr>\n",
       "    <tr>\n",
       "      <th>75%</th>\n",
       "      <td>3.154903e+06</td>\n",
       "      <td>727.894000</td>\n",
       "      <td>1.785000e+04</td>\n",
       "      <td>42.470000</td>\n",
       "      <td>98.500000</td>\n",
       "      <td>0.702000</td>\n",
       "      <td>4.403039e+04</td>\n",
       "      <td>3.912319e+04</td>\n",
       "      <td>22948.360000</td>\n",
       "      <td>NaN</td>\n",
       "    </tr>\n",
       "    <tr>\n",
       "      <th>max</th>\n",
       "      <td>3.172202e+06</td>\n",
       "      <td>10727.097000</td>\n",
       "      <td>2.530701e+06</td>\n",
       "      <td>7167.000000</td>\n",
       "      <td>100.000000</td>\n",
       "      <td>0.813000</td>\n",
       "      <td>1.014599e+07</td>\n",
       "      <td>1.003642e+07</td>\n",
       "      <td>313035.000000</td>\n",
       "      <td>NaN</td>\n",
       "    </tr>\n",
       "  </tbody>\n",
       "</table>\n",
       "</div>"
      ],
      "text/plain": [
       "       C&oacute;digo [-]  &Aacute;rea Territorial - km&sup2; [2021]  \\\n",
       "count       8.530000e+02                                 853.000000   \n",
       "mean        3.136982e+06                                 687.589675   \n",
       "std         2.072104e+04                                 965.848805   \n",
       "min         3.100104e+06                                   3.565000   \n",
       "25%         3.119500e+06                                 196.735000   \n",
       "50%         3.137304e+06                                 363.828000   \n",
       "75%         3.154903e+06                                 727.894000   \n",
       "max         3.172202e+06                               10727.097000   \n",
       "\n",
       "       Popula&ccedil;&atilde;o estimada - pessoas [2021]  \\\n",
       "count                                       8.530000e+02   \n",
       "mean                                        2.510190e+04   \n",
       "std                                         1.017052e+05   \n",
       "min                                         7.710000e+02   \n",
       "25%                                         4.843000e+03   \n",
       "50%                                         8.288000e+03   \n",
       "75%                                         1.785000e+04   \n",
       "max                                         2.530701e+06   \n",
       "\n",
       "       Densidade demogr&aacute;fica - hab/km&sup2; [2010]  \\\n",
       "count                                         853.000000    \n",
       "mean                                           65.277984    \n",
       "std                                           310.186259    \n",
       "min                                             1.360000    \n",
       "25%                                            12.560000    \n",
       "50%                                            22.520000    \n",
       "75%                                            42.470000    \n",
       "max                                          7167.000000    \n",
       "\n",
       "       Escolariza&ccedil;&atilde;o &lt;span&gt;6 a 14 anos&lt;/span&gt; - % [2010]  \\\n",
       "count                                         853.000000                             \n",
       "mean                                           97.443494                             \n",
       "std                                             1.688276                             \n",
       "min                                            83.900000                             \n",
       "25%                                            96.700000                             \n",
       "50%                                            97.700000                             \n",
       "75%                                            98.500000                             \n",
       "max                                           100.000000                             \n",
       "\n",
       "       IDHM &lt;span&gt;&Iacute;ndice de desenvolvimento humano municipal&lt;/span&gt; [2010]  \\\n",
       "count                                         853.000000                                        \n",
       "mean                                            0.667878                                        \n",
       "std                                             0.049637                                        \n",
       "min                                             0.529000                                        \n",
       "25%                                             0.633000                                        \n",
       "50%                                             0.670000                                        \n",
       "75%                                             0.702000                                        \n",
       "max                                             0.813000                                        \n",
       "\n",
       "       Receitas realizadas - R$ (&times;1000) [2017]  \\\n",
       "count                                   8.530000e+02   \n",
       "mean                                    7.185850e+04   \n",
       "std                                     3.776376e+05   \n",
       "min                                     9.919854e+03   \n",
       "25%                                     1.647631e+04   \n",
       "50%                                     2.199549e+04   \n",
       "75%                                     4.403039e+04   \n",
       "max                                     1.014599e+07   \n",
       "\n",
       "       Despesas empenhadas - R$ (&times;1000) [2017]  \\\n",
       "count                                   8.530000e+02   \n",
       "mean                                    6.499545e+04   \n",
       "std                                     3.688016e+05   \n",
       "min                                     7.466144e+02   \n",
       "25%                                     1.440029e+04   \n",
       "50%                                     1.993433e+04   \n",
       "75%                                     3.912319e+04   \n",
       "max                                     1.003642e+07   \n",
       "\n",
       "       PIB per capita - R$ [2019]  Unnamed: 13  \n",
       "count                  853.000000          0.0  \n",
       "mean                 21386.137444          NaN  \n",
       "std                  24512.451613          NaN  \n",
       "min                   5984.220000          NaN  \n",
       "25%                  11082.490000          NaN  \n",
       "50%                  15060.990000          NaN  \n",
       "75%                  22948.360000          NaN  \n",
       "max                 313035.000000          NaN  "
      ]
     },
     "execution_count": 61,
     "metadata": {},
     "output_type": "execute_result"
    }
   ],
   "source": [
    "df.describe()"
   ]
  },
  {
   "cell_type": "code",
   "execution_count": 62,
   "id": "2dce5011",
   "metadata": {},
   "outputs": [],
   "source": [
    "df = df.dropna(axis=1)"
   ]
  },
  {
   "cell_type": "code",
   "execution_count": 63,
   "id": "e26f4eb0",
   "metadata": {},
   "outputs": [
    {
     "name": "stdout",
     "output_type": "stream",
     "text": [
      "<class 'pandas.core.frame.DataFrame'>\n",
      "RangeIndex: 853 entries, 0 to 852\n",
      "Data columns (total 13 columns):\n",
      " #   Column                                                                                  Non-Null Count  Dtype  \n",
      "---  ------                                                                                  --------------  -----  \n",
      " 0   Munic&iacute;pio [-]                                                                    853 non-null    object \n",
      " 1   C&oacute;digo [-]                                                                       853 non-null    int64  \n",
      " 2   Gent&iacute;lico [-]                                                                    853 non-null    object \n",
      " 3   Prefeito [2021]                                                                         853 non-null    object \n",
      " 4   &Aacute;rea Territorial - km&sup2; [2021]                                               853 non-null    float64\n",
      " 5   Popula&ccedil;&atilde;o estimada - pessoas [2021]                                       853 non-null    int64  \n",
      " 6   Densidade demogr&aacute;fica - hab/km&sup2; [2010]                                      853 non-null    float64\n",
      " 7   Escolariza&ccedil;&atilde;o &lt;span&gt;6 a 14 anos&lt;/span&gt; - % [2010]             853 non-null    float64\n",
      " 8   IDHM &lt;span&gt;&Iacute;ndice de desenvolvimento humano municipal&lt;/span&gt; [2010]  853 non-null    float64\n",
      " 9   Mortalidade infantil - &oacute;bitos por mil nascidos vivos [2020]                      853 non-null    object \n",
      " 10  Receitas realizadas - R$ (&times;1000) [2017]                                           853 non-null    float64\n",
      " 11  Despesas empenhadas - R$ (&times;1000) [2017]                                           853 non-null    float64\n",
      " 12  PIB per capita - R$ [2019]                                                              853 non-null    float64\n",
      "dtypes: float64(7), int64(2), object(4)\n",
      "memory usage: 86.8+ KB\n"
     ]
    }
   ],
   "source": [
    "df.info()"
   ]
  },
  {
   "cell_type": "markdown",
   "id": "1c354746",
   "metadata": {},
   "source": [
    "- Organização das Colunas de forma a facilitar a leitura"
   ]
  },
  {
   "cell_type": "code",
   "execution_count": 64,
   "id": "ff28f99f",
   "metadata": {},
   "outputs": [],
   "source": [
    "df.columns = ['Municipio', 'Codigo', 'Gentilico', 'Prefeito_[2021]', 'Area_Territorial_km2_[2021]', \n",
    "              'População_estimada_pessoas_[2021]', 'Densidade_demografica_hab/km2_[2010]',\n",
    "              'Escolarização_6_a_10anos_[2010]', 'IDH_Municipal_[2010]', \n",
    "              'Mortalidade_infantil_óbitos_por_1000_vivos_[2020]',\n",
    "              'Receitas_realizadas_R$_(x1000)_[2017]', 'Despesas_empenhadas_R$(x1000)_[2017]','PIB_per_capita_R$_[2019]']"
   ]
  },
  {
   "cell_type": "code",
   "execution_count": 65,
   "id": "b2634173",
   "metadata": {},
   "outputs": [
    {
     "data": {
      "text/plain": [
       "Index(['Municipio', 'Codigo', 'Gentilico', 'Prefeito_[2021]',\n",
       "       'Area_Territorial_km2_[2021]', 'População_estimada_pessoas_[2021]',\n",
       "       'Densidade_demografica_hab/km2_[2010]',\n",
       "       'Escolarização_6_a_10anos_[2010]', 'IDH_Municipal_[2010]',\n",
       "       'Mortalidade_infantil_óbitos_por_1000_vivos_[2020]',\n",
       "       'Receitas_realizadas_R$_(x1000)_[2017]',\n",
       "       'Despesas_empenhadas_R$(x1000)_[2017]', 'PIB_per_capita_R$_[2019]'],\n",
       "      dtype='object')"
      ]
     },
     "execution_count": 65,
     "metadata": {},
     "output_type": "execute_result"
    }
   ],
   "source": [
    "df.columns"
   ]
  },
  {
   "cell_type": "code",
   "execution_count": 66,
   "id": "a6625d3b",
   "metadata": {},
   "outputs": [
    {
     "data": {
      "text/html": [
       "<div>\n",
       "<style scoped>\n",
       "    .dataframe tbody tr th:only-of-type {\n",
       "        vertical-align: middle;\n",
       "    }\n",
       "\n",
       "    .dataframe tbody tr th {\n",
       "        vertical-align: top;\n",
       "    }\n",
       "\n",
       "    .dataframe thead th {\n",
       "        text-align: right;\n",
       "    }\n",
       "</style>\n",
       "<table border=\"1\" class=\"dataframe\">\n",
       "  <thead>\n",
       "    <tr style=\"text-align: right;\">\n",
       "      <th></th>\n",
       "      <th>Municipio</th>\n",
       "      <th>Codigo</th>\n",
       "      <th>Gentilico</th>\n",
       "      <th>Prefeito_[2021]</th>\n",
       "      <th>Area_Territorial_km2_[2021]</th>\n",
       "      <th>População_estimada_pessoas_[2021]</th>\n",
       "      <th>Densidade_demografica_hab/km2_[2010]</th>\n",
       "      <th>Escolarização_6_a_10anos_[2010]</th>\n",
       "      <th>IDH_Municipal_[2010]</th>\n",
       "      <th>Mortalidade_infantil_óbitos_por_1000_vivos_[2020]</th>\n",
       "      <th>Receitas_realizadas_R$_(x1000)_[2017]</th>\n",
       "      <th>Despesas_empenhadas_R$(x1000)_[2017]</th>\n",
       "      <th>PIB_per_capita_R$_[2019]</th>\n",
       "    </tr>\n",
       "  </thead>\n",
       "  <tbody>\n",
       "    <tr>\n",
       "      <th>0</th>\n",
       "      <td>Abadia dos Dourados</td>\n",
       "      <td>3100104</td>\n",
       "      <td>abadiense</td>\n",
       "      <td>WANDERLEI LEMES SANTOS</td>\n",
       "      <td>880.461</td>\n",
       "      <td>7022</td>\n",
       "      <td>7.61</td>\n",
       "      <td>98.3</td>\n",
       "      <td>0.689</td>\n",
       "      <td>16.39</td>\n",
       "      <td>21894.89576</td>\n",
       "      <td>18793.52389</td>\n",
       "      <td>18254.66</td>\n",
       "    </tr>\n",
       "    <tr>\n",
       "      <th>1</th>\n",
       "      <td>Abaet&amp;eacute;</td>\n",
       "      <td>3100203</td>\n",
       "      <td>abaetense</td>\n",
       "      <td>IVANIR DELADIER DA COSTA</td>\n",
       "      <td>1817.067</td>\n",
       "      <td>23263</td>\n",
       "      <td>12.49</td>\n",
       "      <td>99.8</td>\n",
       "      <td>0.698</td>\n",
       "      <td>24.1</td>\n",
       "      <td>45220.32463</td>\n",
       "      <td>40774.21946</td>\n",
       "      <td>22262.55</td>\n",
       "    </tr>\n",
       "    <tr>\n",
       "      <th>2</th>\n",
       "      <td>Abre Campo</td>\n",
       "      <td>3100302</td>\n",
       "      <td>abre-campense</td>\n",
       "      <td>VITOR HENRIQUE MOREIRA FERREIRA DE OLIVEIRA</td>\n",
       "      <td>470.551</td>\n",
       "      <td>13434</td>\n",
       "      <td>28.29</td>\n",
       "      <td>97.4</td>\n",
       "      <td>0.654</td>\n",
       "      <td>-</td>\n",
       "      <td>32100.12090</td>\n",
       "      <td>29577.56666</td>\n",
       "      <td>15123.22</td>\n",
       "    </tr>\n",
       "    <tr>\n",
       "      <th>3</th>\n",
       "      <td>Acaiaca</td>\n",
       "      <td>3100401</td>\n",
       "      <td>acaiaquense</td>\n",
       "      <td>LUIZ CARLOS FAUSTINO</td>\n",
       "      <td>101.886</td>\n",
       "      <td>3995</td>\n",
       "      <td>38.47</td>\n",
       "      <td>96.0</td>\n",
       "      <td>0.630</td>\n",
       "      <td>-</td>\n",
       "      <td>14072.55633</td>\n",
       "      <td>12445.28291</td>\n",
       "      <td>13982.58</td>\n",
       "    </tr>\n",
       "    <tr>\n",
       "      <th>4</th>\n",
       "      <td>A&amp;ccedil;ucena</td>\n",
       "      <td>3100500</td>\n",
       "      <td>a&amp;ccedil;ucenense</td>\n",
       "      <td>RAULISSON MORAIS</td>\n",
       "      <td>815.422</td>\n",
       "      <td>9270</td>\n",
       "      <td>12.60</td>\n",
       "      <td>96.7</td>\n",
       "      <td>0.610</td>\n",
       "      <td>10.64</td>\n",
       "      <td>19477.67359</td>\n",
       "      <td>19513.35699</td>\n",
       "      <td>9880.87</td>\n",
       "    </tr>\n",
       "  </tbody>\n",
       "</table>\n",
       "</div>"
      ],
      "text/plain": [
       "             Municipio   Codigo          Gentilico  \\\n",
       "0  Abadia dos Dourados  3100104          abadiense   \n",
       "1        Abaet&eacute;  3100203          abaetense   \n",
       "2           Abre Campo  3100302      abre-campense   \n",
       "3              Acaiaca  3100401        acaiaquense   \n",
       "4       A&ccedil;ucena  3100500  a&ccedil;ucenense   \n",
       "\n",
       "                               Prefeito_[2021]  Area_Territorial_km2_[2021]  \\\n",
       "0                       WANDERLEI LEMES SANTOS                      880.461   \n",
       "1                     IVANIR DELADIER DA COSTA                     1817.067   \n",
       "2  VITOR HENRIQUE MOREIRA FERREIRA DE OLIVEIRA                      470.551   \n",
       "3                         LUIZ CARLOS FAUSTINO                      101.886   \n",
       "4                             RAULISSON MORAIS                      815.422   \n",
       "\n",
       "   População_estimada_pessoas_[2021]  Densidade_demografica_hab/km2_[2010]  \\\n",
       "0                               7022                                  7.61   \n",
       "1                              23263                                 12.49   \n",
       "2                              13434                                 28.29   \n",
       "3                               3995                                 38.47   \n",
       "4                               9270                                 12.60   \n",
       "\n",
       "   Escolarização_6_a_10anos_[2010]  IDH_Municipal_[2010]  \\\n",
       "0                             98.3                 0.689   \n",
       "1                             99.8                 0.698   \n",
       "2                             97.4                 0.654   \n",
       "3                             96.0                 0.630   \n",
       "4                             96.7                 0.610   \n",
       "\n",
       "  Mortalidade_infantil_óbitos_por_1000_vivos_[2020]  \\\n",
       "0                                             16.39   \n",
       "1                                              24.1   \n",
       "2                                                 -   \n",
       "3                                                 -   \n",
       "4                                             10.64   \n",
       "\n",
       "   Receitas_realizadas_R$_(x1000)_[2017]  \\\n",
       "0                            21894.89576   \n",
       "1                            45220.32463   \n",
       "2                            32100.12090   \n",
       "3                            14072.55633   \n",
       "4                            19477.67359   \n",
       "\n",
       "   Despesas_empenhadas_R$(x1000)_[2017]  PIB_per_capita_R$_[2019]  \n",
       "0                           18793.52389                  18254.66  \n",
       "1                           40774.21946                  22262.55  \n",
       "2                           29577.56666                  15123.22  \n",
       "3                           12445.28291                  13982.58  \n",
       "4                           19513.35699                   9880.87  "
      ]
     },
     "execution_count": 66,
     "metadata": {},
     "output_type": "execute_result"
    }
   ],
   "source": [
    "df.head()"
   ]
  },
  {
   "cell_type": "markdown",
   "id": "ce219d54",
   "metadata": {},
   "source": [
    " - Data Cleaning :"
   ]
  },
  {
   "cell_type": "code",
   "execution_count": 67,
   "id": "f060f1af",
   "metadata": {},
   "outputs": [],
   "source": [
    "df['Municipio'] =  df['Municipio'].str.replace('&',\"\").str.replace('acute;',\"\").str.replace('tilde;',\"\")"
   ]
  },
  {
   "cell_type": "code",
   "execution_count": 68,
   "id": "6854bf9c",
   "metadata": {},
   "outputs": [],
   "source": [
    "df['Municipio'] = df['Municipio'].str.replace('ccedil;',\"ç\").str.replace('circ;',\"\")"
   ]
  },
  {
   "cell_type": "code",
   "execution_count": 69,
   "id": "af7217bd",
   "metadata": {},
   "outputs": [],
   "source": [
    "df['Gentilico'] = df['Gentilico'].str.replace('&',\"\").str.replace('acute;',\"\")"
   ]
  },
  {
   "cell_type": "code",
   "execution_count": 70,
   "id": "3c49159b",
   "metadata": {},
   "outputs": [],
   "source": [
    "df['Gentilico'] = df['Gentilico'].str.replace('ccedil;',\"ç\").str.replace('circ;',\"\").str.replace('tilde;',\"\")"
   ]
  },
  {
   "cell_type": "code",
   "execution_count": 71,
   "id": "5580adf4",
   "metadata": {},
   "outputs": [],
   "source": [
    "df['Prefeito_[2021]'] = df['Prefeito_[2021]'].str.replace('&',\"\").str.replace('tilde;',\"\").str.replace('acute;',\"\")"
   ]
  },
  {
   "cell_type": "code",
   "execution_count": 72,
   "id": "c791cfab",
   "metadata": {},
   "outputs": [],
   "source": [
    "df['Prefeito_[2021]'] = df['Prefeito_[2021]'].str.replace('ccedil;',\"ç\").str.replace('circ;',\"\")"
   ]
  },
  {
   "cell_type": "code",
   "execution_count": 73,
   "id": "a7fc332c",
   "metadata": {
    "scrolled": false
   },
   "outputs": [
    {
     "data": {
      "text/html": [
       "<div>\n",
       "<style scoped>\n",
       "    .dataframe tbody tr th:only-of-type {\n",
       "        vertical-align: middle;\n",
       "    }\n",
       "\n",
       "    .dataframe tbody tr th {\n",
       "        vertical-align: top;\n",
       "    }\n",
       "\n",
       "    .dataframe thead th {\n",
       "        text-align: right;\n",
       "    }\n",
       "</style>\n",
       "<table border=\"1\" class=\"dataframe\">\n",
       "  <thead>\n",
       "    <tr style=\"text-align: right;\">\n",
       "      <th></th>\n",
       "      <th>Municipio</th>\n",
       "      <th>Codigo</th>\n",
       "      <th>Gentilico</th>\n",
       "      <th>Prefeito_[2021]</th>\n",
       "      <th>Area_Territorial_km2_[2021]</th>\n",
       "      <th>População_estimada_pessoas_[2021]</th>\n",
       "      <th>Densidade_demografica_hab/km2_[2010]</th>\n",
       "      <th>Escolarização_6_a_10anos_[2010]</th>\n",
       "      <th>IDH_Municipal_[2010]</th>\n",
       "      <th>Mortalidade_infantil_óbitos_por_1000_vivos_[2020]</th>\n",
       "      <th>Receitas_realizadas_R$_(x1000)_[2017]</th>\n",
       "      <th>Despesas_empenhadas_R$(x1000)_[2017]</th>\n",
       "      <th>PIB_per_capita_R$_[2019]</th>\n",
       "    </tr>\n",
       "  </thead>\n",
       "  <tbody>\n",
       "    <tr>\n",
       "      <th>0</th>\n",
       "      <td>Abadia dos Dourados</td>\n",
       "      <td>3100104</td>\n",
       "      <td>abadiense</td>\n",
       "      <td>WANDERLEI LEMES SANTOS</td>\n",
       "      <td>880.461</td>\n",
       "      <td>7022</td>\n",
       "      <td>7.61</td>\n",
       "      <td>98.3</td>\n",
       "      <td>0.689</td>\n",
       "      <td>16.39</td>\n",
       "      <td>21894.89576</td>\n",
       "      <td>18793.52389</td>\n",
       "      <td>18254.66</td>\n",
       "    </tr>\n",
       "    <tr>\n",
       "      <th>1</th>\n",
       "      <td>Abaete</td>\n",
       "      <td>3100203</td>\n",
       "      <td>abaetense</td>\n",
       "      <td>IVANIR DELADIER DA COSTA</td>\n",
       "      <td>1817.067</td>\n",
       "      <td>23263</td>\n",
       "      <td>12.49</td>\n",
       "      <td>99.8</td>\n",
       "      <td>0.698</td>\n",
       "      <td>24.1</td>\n",
       "      <td>45220.32463</td>\n",
       "      <td>40774.21946</td>\n",
       "      <td>22262.55</td>\n",
       "    </tr>\n",
       "    <tr>\n",
       "      <th>2</th>\n",
       "      <td>Abre Campo</td>\n",
       "      <td>3100302</td>\n",
       "      <td>abre-campense</td>\n",
       "      <td>VITOR HENRIQUE MOREIRA FERREIRA DE OLIVEIRA</td>\n",
       "      <td>470.551</td>\n",
       "      <td>13434</td>\n",
       "      <td>28.29</td>\n",
       "      <td>97.4</td>\n",
       "      <td>0.654</td>\n",
       "      <td>-</td>\n",
       "      <td>32100.12090</td>\n",
       "      <td>29577.56666</td>\n",
       "      <td>15123.22</td>\n",
       "    </tr>\n",
       "    <tr>\n",
       "      <th>3</th>\n",
       "      <td>Acaiaca</td>\n",
       "      <td>3100401</td>\n",
       "      <td>acaiaquense</td>\n",
       "      <td>LUIZ CARLOS FAUSTINO</td>\n",
       "      <td>101.886</td>\n",
       "      <td>3995</td>\n",
       "      <td>38.47</td>\n",
       "      <td>96.0</td>\n",
       "      <td>0.630</td>\n",
       "      <td>-</td>\n",
       "      <td>14072.55633</td>\n",
       "      <td>12445.28291</td>\n",
       "      <td>13982.58</td>\n",
       "    </tr>\n",
       "    <tr>\n",
       "      <th>4</th>\n",
       "      <td>Açucena</td>\n",
       "      <td>3100500</td>\n",
       "      <td>açucenense</td>\n",
       "      <td>RAULISSON MORAIS</td>\n",
       "      <td>815.422</td>\n",
       "      <td>9270</td>\n",
       "      <td>12.60</td>\n",
       "      <td>96.7</td>\n",
       "      <td>0.610</td>\n",
       "      <td>10.64</td>\n",
       "      <td>19477.67359</td>\n",
       "      <td>19513.35699</td>\n",
       "      <td>9880.87</td>\n",
       "    </tr>\n",
       "  </tbody>\n",
       "</table>\n",
       "</div>"
      ],
      "text/plain": [
       "             Municipio   Codigo      Gentilico  \\\n",
       "0  Abadia dos Dourados  3100104      abadiense   \n",
       "1               Abaete  3100203      abaetense   \n",
       "2           Abre Campo  3100302  abre-campense   \n",
       "3              Acaiaca  3100401    acaiaquense   \n",
       "4              Açucena  3100500     açucenense   \n",
       "\n",
       "                               Prefeito_[2021]  Area_Territorial_km2_[2021]  \\\n",
       "0                       WANDERLEI LEMES SANTOS                      880.461   \n",
       "1                     IVANIR DELADIER DA COSTA                     1817.067   \n",
       "2  VITOR HENRIQUE MOREIRA FERREIRA DE OLIVEIRA                      470.551   \n",
       "3                         LUIZ CARLOS FAUSTINO                      101.886   \n",
       "4                             RAULISSON MORAIS                      815.422   \n",
       "\n",
       "   População_estimada_pessoas_[2021]  Densidade_demografica_hab/km2_[2010]  \\\n",
       "0                               7022                                  7.61   \n",
       "1                              23263                                 12.49   \n",
       "2                              13434                                 28.29   \n",
       "3                               3995                                 38.47   \n",
       "4                               9270                                 12.60   \n",
       "\n",
       "   Escolarização_6_a_10anos_[2010]  IDH_Municipal_[2010]  \\\n",
       "0                             98.3                 0.689   \n",
       "1                             99.8                 0.698   \n",
       "2                             97.4                 0.654   \n",
       "3                             96.0                 0.630   \n",
       "4                             96.7                 0.610   \n",
       "\n",
       "  Mortalidade_infantil_óbitos_por_1000_vivos_[2020]  \\\n",
       "0                                             16.39   \n",
       "1                                              24.1   \n",
       "2                                                 -   \n",
       "3                                                 -   \n",
       "4                                             10.64   \n",
       "\n",
       "   Receitas_realizadas_R$_(x1000)_[2017]  \\\n",
       "0                            21894.89576   \n",
       "1                            45220.32463   \n",
       "2                            32100.12090   \n",
       "3                            14072.55633   \n",
       "4                            19477.67359   \n",
       "\n",
       "   Despesas_empenhadas_R$(x1000)_[2017]  PIB_per_capita_R$_[2019]  \n",
       "0                           18793.52389                  18254.66  \n",
       "1                           40774.21946                  22262.55  \n",
       "2                           29577.56666                  15123.22  \n",
       "3                           12445.28291                  13982.58  \n",
       "4                           19513.35699                   9880.87  "
      ]
     },
     "execution_count": 73,
     "metadata": {},
     "output_type": "execute_result"
    }
   ],
   "source": [
    "df.head()"
   ]
  },
  {
   "cell_type": "markdown",
   "id": "61026311",
   "metadata": {},
   "source": [
    "- Uso do conceito de engenharia de dados para estimar a densidade demográfica atual"
   ]
  },
  {
   "cell_type": "code",
   "execution_count": 74,
   "id": "0aa21922",
   "metadata": {},
   "outputs": [],
   "source": [
    "df['Densidade_demografica_estimada_[2021]_hab/km2'] = df['População_estimada_pessoas_[2021]'] / df['Area_Territorial_km2_[2021]']"
   ]
  },
  {
   "cell_type": "code",
   "execution_count": 75,
   "id": "7ce17b7c",
   "metadata": {
    "scrolled": true
   },
   "outputs": [
    {
     "data": {
      "text/html": [
       "<div>\n",
       "<style scoped>\n",
       "    .dataframe tbody tr th:only-of-type {\n",
       "        vertical-align: middle;\n",
       "    }\n",
       "\n",
       "    .dataframe tbody tr th {\n",
       "        vertical-align: top;\n",
       "    }\n",
       "\n",
       "    .dataframe thead th {\n",
       "        text-align: right;\n",
       "    }\n",
       "</style>\n",
       "<table border=\"1\" class=\"dataframe\">\n",
       "  <thead>\n",
       "    <tr style=\"text-align: right;\">\n",
       "      <th></th>\n",
       "      <th>Densidade_demografica_hab/km2_[2010]</th>\n",
       "      <th>Densidade_demografica_estimada_[2021]_hab/km2</th>\n",
       "    </tr>\n",
       "  </thead>\n",
       "  <tbody>\n",
       "    <tr>\n",
       "      <th>0</th>\n",
       "      <td>7.61</td>\n",
       "      <td>7.975367</td>\n",
       "    </tr>\n",
       "    <tr>\n",
       "      <th>1</th>\n",
       "      <td>12.49</td>\n",
       "      <td>12.802500</td>\n",
       "    </tr>\n",
       "    <tr>\n",
       "      <th>2</th>\n",
       "      <td>28.29</td>\n",
       "      <td>28.549509</td>\n",
       "    </tr>\n",
       "    <tr>\n",
       "      <th>3</th>\n",
       "      <td>38.47</td>\n",
       "      <td>39.210490</td>\n",
       "    </tr>\n",
       "    <tr>\n",
       "      <th>4</th>\n",
       "      <td>12.60</td>\n",
       "      <td>11.368347</td>\n",
       "    </tr>\n",
       "  </tbody>\n",
       "</table>\n",
       "</div>"
      ],
      "text/plain": [
       "   Densidade_demografica_hab/km2_[2010]  \\\n",
       "0                                  7.61   \n",
       "1                                 12.49   \n",
       "2                                 28.29   \n",
       "3                                 38.47   \n",
       "4                                 12.60   \n",
       "\n",
       "   Densidade_demografica_estimada_[2021]_hab/km2  \n",
       "0                                       7.975367  \n",
       "1                                      12.802500  \n",
       "2                                      28.549509  \n",
       "3                                      39.210490  \n",
       "4                                      11.368347  "
      ]
     },
     "execution_count": 75,
     "metadata": {},
     "output_type": "execute_result"
    }
   ],
   "source": [
    "df[['Densidade_demografica_hab/km2_[2010]', 'Densidade_demografica_estimada_[2021]_hab/km2']].head()"
   ]
  },
  {
   "cell_type": "markdown",
   "id": "df429539",
   "metadata": {},
   "source": [
    "- Análise da correlação entre IDH, PIB per capita, Receita Municipal e Escolarização\n",
    "\n",
    "  - Nota:  Devido ao último censo ter sido realizado em 2010, alguns dados estão desatualizados."
   ]
  },
  {
   "cell_type": "code",
   "execution_count": 76,
   "id": "3daf2f25",
   "metadata": {},
   "outputs": [
    {
     "data": {
      "text/html": [
       "<div>\n",
       "<style scoped>\n",
       "    .dataframe tbody tr th:only-of-type {\n",
       "        vertical-align: middle;\n",
       "    }\n",
       "\n",
       "    .dataframe tbody tr th {\n",
       "        vertical-align: top;\n",
       "    }\n",
       "\n",
       "    .dataframe thead th {\n",
       "        text-align: right;\n",
       "    }\n",
       "</style>\n",
       "<table border=\"1\" class=\"dataframe\">\n",
       "  <thead>\n",
       "    <tr style=\"text-align: right;\">\n",
       "      <th></th>\n",
       "      <th>IDH_Municipal_[2010]</th>\n",
       "      <th>Receitas_realizadas_R$_(x1000)_[2017]</th>\n",
       "      <th>PIB_per_capita_R$_[2019]</th>\n",
       "      <th>Escolarização_6_a_10anos_[2010]</th>\n",
       "    </tr>\n",
       "  </thead>\n",
       "  <tbody>\n",
       "    <tr>\n",
       "      <th>IDH_Municipal_[2010]</th>\n",
       "      <td>1.000000</td>\n",
       "      <td>0.247314</td>\n",
       "      <td>0.347486</td>\n",
       "      <td>0.313377</td>\n",
       "    </tr>\n",
       "    <tr>\n",
       "      <th>Receitas_realizadas_R$_(x1000)_[2017]</th>\n",
       "      <td>0.247314</td>\n",
       "      <td>1.000000</td>\n",
       "      <td>0.109842</td>\n",
       "      <td>0.023261</td>\n",
       "    </tr>\n",
       "    <tr>\n",
       "      <th>PIB_per_capita_R$_[2019]</th>\n",
       "      <td>0.347486</td>\n",
       "      <td>0.109842</td>\n",
       "      <td>1.000000</td>\n",
       "      <td>0.104434</td>\n",
       "    </tr>\n",
       "    <tr>\n",
       "      <th>Escolarização_6_a_10anos_[2010]</th>\n",
       "      <td>0.313377</td>\n",
       "      <td>0.023261</td>\n",
       "      <td>0.104434</td>\n",
       "      <td>1.000000</td>\n",
       "    </tr>\n",
       "  </tbody>\n",
       "</table>\n",
       "</div>"
      ],
      "text/plain": [
       "                                       IDH_Municipal_[2010]  \\\n",
       "IDH_Municipal_[2010]                               1.000000   \n",
       "Receitas_realizadas_R$_(x1000)_[2017]              0.247314   \n",
       "PIB_per_capita_R$_[2019]                           0.347486   \n",
       "Escolarização_6_a_10anos_[2010]                    0.313377   \n",
       "\n",
       "                                       Receitas_realizadas_R$_(x1000)_[2017]  \\\n",
       "IDH_Municipal_[2010]                                                0.247314   \n",
       "Receitas_realizadas_R$_(x1000)_[2017]                               1.000000   \n",
       "PIB_per_capita_R$_[2019]                                            0.109842   \n",
       "Escolarização_6_a_10anos_[2010]                                     0.023261   \n",
       "\n",
       "                                       PIB_per_capita_R$_[2019]  \\\n",
       "IDH_Municipal_[2010]                                   0.347486   \n",
       "Receitas_realizadas_R$_(x1000)_[2017]                  0.109842   \n",
       "PIB_per_capita_R$_[2019]                               1.000000   \n",
       "Escolarização_6_a_10anos_[2010]                        0.104434   \n",
       "\n",
       "                                       Escolarização_6_a_10anos_[2010]  \n",
       "IDH_Municipal_[2010]                                          0.313377  \n",
       "Receitas_realizadas_R$_(x1000)_[2017]                         0.023261  \n",
       "PIB_per_capita_R$_[2019]                                      0.104434  \n",
       "Escolarização_6_a_10anos_[2010]                               1.000000  "
      ]
     },
     "execution_count": 76,
     "metadata": {},
     "output_type": "execute_result"
    }
   ],
   "source": [
    "df[['IDH_Municipal_[2010]', 'Receitas_realizadas_R$_(x1000)_[2017]', \n",
    "    'PIB_per_capita_R$_[2019]', 'Escolarização_6_a_10anos_[2010]']].corr()"
   ]
  },
  {
   "cell_type": "code",
   "execution_count": 77,
   "id": "822f320a",
   "metadata": {},
   "outputs": [],
   "source": [
    "corr = df[['IDH_Municipal_[2010]', 'Receitas_realizadas_R$_(x1000)_[2017]', 'PIB_per_capita_R$_[2019]', 'Escolarização_6_a_10anos_[2010]']].corr()"
   ]
  },
  {
   "cell_type": "code",
   "execution_count": 78,
   "id": "80c58a60",
   "metadata": {},
   "outputs": [
    {
     "data": {
      "text/plain": [
       "<AxesSubplot:>"
      ]
     },
     "execution_count": 78,
     "metadata": {},
     "output_type": "execute_result"
    },
    {
     "data": {
      "image/png": "[encoded data removed]",
      "text/plain": [
       "<Figure size 432x432 with 2 Axes>"
      ]
     },
     "metadata": {
      "needs_background": "light"
     },
     "output_type": "display_data"
    }
   ],
   "source": [
    "plt.figure(figsize=(6,6))\n",
    "sns.heatmap(corr, annot= True)"
   ]
  },
  {
   "cell_type": "code",
   "execution_count": null,
   "id": "ddd168a5",
   "metadata": {},
   "outputs": [],
   "source": []
  },
  {
   "cell_type": "markdown",
   "id": "295354c2",
   "metadata": {},
   "source": [
    "- Etapa de carregamento dos dados no PostgreSQL"
   ]
  },
  {
   "cell_type": "code",
   "execution_count": 79,
   "id": "30b6b04f",
   "metadata": {},
   "outputs": [],
   "source": [
    "import psycopg2 as pg2\n",
    "from io import StringIO"
   ]
  },
  {
   "cell_type": "code",
   "execution_count": 80,
   "id": "8c500fc8",
   "metadata": {},
   "outputs": [],
   "source": [
    "param_dic = {\n",
    "    \"host\"      : \"localhost\",\n",
    "    \"database\"  : \"ibge_database\",\n",
    "    \"user\"      : \"postgres\",\n",
    "    \"password\"  : \"your_password\"\n",
    "}"
   ]
  },
  {
   "cell_type": "code",
   "execution_count": 81,
   "id": "e857ffee",
   "metadata": {},
   "outputs": [],
   "source": [
    "conn = pg2.connect(database=param_dic['database'], user = param_dic['user'], password=param_dic['password'])"
   ]
  },
  {
   "cell_type": "code",
   "execution_count": 84,
   "id": "b7d28b30",
   "metadata": {},
   "outputs": [],
   "source": [
    "columns_order = [ 'Codigo','Municipio', 'Gentilico', 'Prefeito_[2021]',\n",
    "       'Area_Territorial_km2_[2021]', 'População_estimada_pessoas_[2021]',\n",
    "       'Densidade_demografica_hab/km2_[2010]',\n",
    "       'Escolarização_6_a_10anos_[2010]', 'IDH_Municipal_[2010]',\n",
    "       'Mortalidade_infantil_óbitos_por_1000_vivos_[2020]',\n",
    "       'Receitas_realizadas_R$_(x1000)_[2017]',\n",
    "       'Despesas_empenhadas_R$(x1000)_[2017]', 'PIB_per_capita_R$_[2019]',\n",
    "       'Densidade_demografica_estimada_[2021]_hab/km2']"
   ]
  },
  {
   "cell_type": "code",
   "execution_count": 85,
   "id": "f8b1f990",
   "metadata": {},
   "outputs": [],
   "source": [
    "colunas_sql = (\"Codigo integer PRIMARY KEY, Municipio varchar, Gentilico varchar, Prefeito_2021 varchar,\"+\n",
    "          \" Area_Territorial_km2_2021 numeric, População_estimada_pessoas_2021 integer,\"+\n",
    "          \" Densidade_demografica_hab_km2_2010 numeric, Escolarização_6_a_10anos_2010 numeric,\"+\n",
    "          \" IDH_Municipal_2010 numeric, Mortalidade_infantil_óbitos_por_1000_vivos_2020 varchar,\"+\n",
    "          \" Receitas_realizadas_R$_x1000_2017 numeric, Despesas_empenhadas_R$_x1000_2017 numeric, \"+\n",
    "          \" PIB_per_capita_R$_2019 numeric, Densidade_demografica_estimada_2021_hab_km2 numeric\")"
   ]
  },
  {
   "cell_type": "code",
   "execution_count": 86,
   "id": "629a59d7",
   "metadata": {},
   "outputs": [],
   "source": [
    "table = 'dados_ibge_mg'"
   ]
  },
  {
   "cell_type": "markdown",
   "id": "6e2e03f7",
   "metadata": {},
   "source": [
    "- Funções para criar uma tabela no PostgreSQl e Salvar os dados no database"
   ]
  },
  {
   "cell_type": "code",
   "execution_count": 89,
   "id": "588bb93f",
   "metadata": {},
   "outputs": [],
   "source": [
    "def create_table(tabela, colunas):\n",
    "    \"\"\" Cria uma tabela no PosgreSQL\"\"\"\n",
    "    cursor = conn.cursor()\n",
    "    \n",
    "    try:\n",
    "        cursor.execute(f\"CREATE TABLE {tabela} ({colunas});\")\n",
    "        conn.commit()\n",
    "    except (Exception, psycopg2.Databaseerror) as error:\n",
    "        print(\"Error: %s\" %error)\n",
    "        conn.rollback()\n",
    "        cursor.close()\n",
    "        return 1\n",
    "    cursor.close()\n",
    "    \n",
    "    \n",
    "def copy_from_stringio(conn, df, table, columns_order):\n",
    "    ''' Salva o dataframe na memoria e usa copy_from() para copiar os dados para tabela ''' \n",
    "    buffer = StringIO()\n",
    "    df.to_csv(buffer, index_label='Codigo', header=False,index=False, columns=columns_order)\n",
    "    buffer.seek(0)\n",
    "    \n",
    "    cursor = conn.cursor()\n",
    "    \n",
    "    try:\n",
    "        cursor.copy_from(buffer, table, sep=\",\")\n",
    "        conn.commit()\n",
    "    except (Exception, pg2.DatabaseError) as error:\n",
    "        print(\"Error: %s\" %error)\n",
    "        conn.rollback()\n",
    "        cursor.close()\n",
    "        return 1\n",
    "    \n",
    "    print(\"copy from StringIO done\")\n",
    "    cursor.close()    \n",
    "    "
   ]
  },
  {
   "cell_type": "code",
   "execution_count": null,
   "id": "8d62fcdd",
   "metadata": {},
   "outputs": [],
   "source": []
  },
  {
   "cell_type": "code",
   "execution_count": 90,
   "id": "415c3a61",
   "metadata": {},
   "outputs": [],
   "source": [
    "create_table(table, colunas_sql)"
   ]
  },
  {
   "cell_type": "code",
   "execution_count": 91,
   "id": "ead391e4",
   "metadata": {},
   "outputs": [
    {
     "name": "stdout",
     "output_type": "stream",
     "text": [
      "copy from StringIO done\n"
     ]
    }
   ],
   "source": [
    "copy_from_stringio(conn,df,table,columns_order)"
   ]
  },
  {
   "cell_type": "code",
   "execution_count": 92,
   "id": "ea3e14e1",
   "metadata": {},
   "outputs": [],
   "source": [
    "conn.close()"
   ]
  },
  {
   "cell_type": "code",
   "execution_count": null,
   "id": "3ee39cc6",
   "metadata": {},
   "outputs": [],
   "source": []
  }
 ],
 "metadata": {
  "kernelspec": {
   "display_name": "Python 3",
   "language": "python",
   "name": "python3"
  },
  "language_info": {
   "codemirror_mode": {
    "name": "ipython",
    "version": 3
   },
   "file_extension": ".py",
   "mimetype": "text/x-python",
   "name": "python",
   "nbconvert_exporter": "python",
   "pygments_lexer": "ipython3",
   "version": "3.8.8"
  }
 },
 "nbformat": 4,
 "nbformat_minor": 5
}
